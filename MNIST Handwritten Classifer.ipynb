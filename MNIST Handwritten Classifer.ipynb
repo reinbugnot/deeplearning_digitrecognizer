{
 "cells": [
  {
   "cell_type": "code",
   "execution_count": 1,
   "metadata": {},
   "outputs": [
    {
     "name": "stderr",
     "output_type": "stream",
     "text": [
      "Using TensorFlow backend.\n"
     ]
    }
   ],
   "source": [
    "from keras import backend as K\n",
    "from keras.models import Model\n",
    "from keras.datasets import mnist\n",
    "from keras.layers import Input, ZeroPadding2D, Conv2D, BatchNormalization\n",
    "from keras.layers import Activation, MaxPooling2D, Flatten, Dense\n",
    "import tensorflow as tf\n",
    "import numpy as np\n",
    "import pandas as pd\n",
    "import matplotlib.pyplot as plt\n",
    "import seaborn as sb\n",
    "import pydot\n",
    "from tqdm import tqdm\n",
    "\n",
    "%matplotlib inline\n",
    "%config IPCompleter.greedy=True"
   ]
  },
  {
   "cell_type": "markdown",
   "metadata": {},
   "source": [
    "### Load Data"
   ]
  },
  {
   "cell_type": "code",
   "execution_count": 66,
   "metadata": {},
   "outputs": [],
   "source": [
    "(X_train_new, y_train_new), (X_test_new, y_test_new) = mnist.load_data()"
   ]
  },
  {
   "cell_type": "code",
   "execution_count": 67,
   "metadata": {},
   "outputs": [
    {
     "name": "stdout",
     "output_type": "stream",
     "text": [
      "This is the number 2\n"
     ]
    },
    {
     "data": {
      "image/png": "[encoded data removed]",
      "text/plain": [
       "<Figure size 432x288 with 1 Axes>"
      ]
     },
     "metadata": {
      "needs_background": "light"
     },
     "output_type": "display_data"
    }
   ],
   "source": [
    "index = 5\n",
    "plt.imshow(X_train_new[index])\n",
    "print(\"This is the number \" + str(y_train_new[index]))"
   ]
  },
  {
   "cell_type": "markdown",
   "metadata": {},
   "source": [
    "### Data Preprocessing"
   ]
  },
  {
   "cell_type": "code",
   "execution_count": 68,
   "metadata": {},
   "outputs": [
    {
     "name": "stdout",
     "output_type": "stream",
     "text": [
      "The Shape of X_train is: (60000, 28, 28, 1)\n",
      "The Shape of y_train is: (60000, 10)\n",
      "The Shape of X_test is: (10000, 28, 28, 1)\n",
      "The Shape of y_test is: (10000, 10)\n"
     ]
    }
   ],
   "source": [
    "#Slice array to train to smaller chunks if needed\n",
    "train_slice = 60000\n",
    "test_slice = 10000\n",
    "\n",
    "X_train = X_train_new[:train_slice]\n",
    "y_train = y_train_new[:train_slice]\n",
    "X_test = X_test_new[:test_slice]\n",
    "y_test = y_test_new[:test_slice]\n",
    "\n",
    "#Reshape to format suitable for model\n",
    "X_train = X_train.reshape(X_train.shape[0], 28, 28, 1).astype('float32')\n",
    "X_test = X_test.reshape(X_test.shape[0], 28, 28, 1).astype('float32')\n",
    "input_shape = (28, 28, 1)\n",
    "\n",
    "#Normalize Inputs\n",
    "X_train /= 255\n",
    "X_test /= 255\n",
    "\n",
    "#Apply one-hot to output y\n",
    "y_train = tf.Session().run(K.one_hot(y_train, 10))\n",
    "y_test = tf.Session().run(K.one_hot(y_test, 10))\n",
    "\n",
    "print(\"The Shape of X_train is: \" + str(X_train.shape))\n",
    "print(\"The Shape of y_train is: \" + str(y_train.shape))\n",
    "print(\"The Shape of X_test is: \" + str(X_test.shape))\n",
    "print(\"The Shape of y_test is: \" + str(y_test.shape))"
   ]
  },
  {
   "cell_type": "markdown",
   "metadata": {},
   "source": [
    "### Build Model: 3-layer CNN with Batch Norm and Max Pooling + 2 Dense Layers"
   ]
  },
  {
   "cell_type": "code",
   "execution_count": 69,
   "metadata": {},
   "outputs": [],
   "source": [
    "X_input = Input(input_shape)"
   ]
  },
  {
   "cell_type": "code",
   "execution_count": 70,
   "metadata": {},
   "outputs": [
    {
     "name": "stdout",
     "output_type": "stream",
     "text": [
      "(?, 17, 17, 32)\n",
      "(?, 9, 9, 64)\n",
      "(?, 5, 5, 128)\n",
      "(?, ?)\n",
      "(?, 256)\n",
      "(?, 10)\n"
     ]
    }
   ],
   "source": [
    "X = ZeroPadding2D((3,3))(X_input)\n",
    "\n",
    "#Layer 1\n",
    "X = Conv2D(32, (5,5), strides = (1,1), name = 'conv1', padding = 'same')(X)\n",
    "X = BatchNormalization(axis = 3)(X)\n",
    "X = Activation('relu')(X)\n",
    "X = MaxPooling2D((2,2), padding = 'same')(X)\n",
    "print(X.shape)\n",
    "\n",
    "#Layer 2\n",
    "X = Conv2D(64, (3,3), strides = (1,1), name = 'conv2', padding = 'same')(X)\n",
    "X = BatchNormalization(axis = 3)(X)\n",
    "X = Activation('relu')(X)\n",
    "X = MaxPooling2D((2,2), padding = 'same')(X)\n",
    "print(X.shape)\n",
    "\n",
    "#Layer 2\n",
    "X = Conv2D(128, (3,3), strides = (1,1), name = 'conv3', padding = 'same')(X)\n",
    "X = BatchNormalization(axis = 3)(X)\n",
    "X = Activation('relu')(X)\n",
    "X = MaxPooling2D((2,2), padding = 'same')(X)\n",
    "print(X.shape)\n",
    "\n",
    "#Fully Connected\n",
    "X = Flatten()(X)\n",
    "print(X.shape)\n",
    "X = Dense(256, activation = 'relu', name = 'fc1')(X)\n",
    "print(X.shape)\n",
    "X = Dense(10, activation = 'softmax', name = 'fc2')(X)\n",
    "print(X.shape)"
   ]
  },
  {
   "cell_type": "code",
   "execution_count": 71,
   "metadata": {},
   "outputs": [],
   "source": [
    "#Call the functional model API\n",
    "model = Model(inputs = X_input, outputs = X, name = 'HandwrittenRecog')"
   ]
  },
  {
   "cell_type": "code",
   "execution_count": 72,
   "metadata": {},
   "outputs": [],
   "source": [
    "#Compile model\n",
    "model.compile(optimizer = 'adam', loss = 'categorical_crossentropy', metrics = [\"accuracy\"])"
   ]
  },
  {
   "cell_type": "markdown",
   "metadata": {},
   "source": [
    "### Model Training"
   ]
  },
  {
   "cell_type": "code",
   "execution_count": 73,
   "metadata": {},
   "outputs": [
    {
     "name": "stdout",
     "output_type": "stream",
     "text": [
      "Train on 48000 samples, validate on 12000 samples\n",
      "Epoch 1/20\n",
      "48000/48000 [==============================] - 11s 220us/step - loss: 0.2085 - acc: 0.9442 - val_loss: 0.1168 - val_acc: 0.9648\n",
      "Epoch 2/20\n",
      "48000/48000 [==============================] - 10s 199us/step - loss: 0.0475 - acc: 0.9848 - val_loss: 0.0623 - val_acc: 0.9819\n",
      "Epoch 3/20\n",
      "48000/48000 [==============================] - 10s 200us/step - loss: 0.0327 - acc: 0.9899 - val_loss: 0.0380 - val_acc: 0.9887\n",
      "Epoch 4/20\n",
      "48000/48000 [==============================] - 10s 202us/step - loss: 0.0272 - acc: 0.9910 - val_loss: 0.0413 - val_acc: 0.9867\n",
      "Epoch 5/20\n",
      "48000/48000 [==============================] - 10s 201us/step - loss: 0.0233 - acc: 0.9923 - val_loss: 0.1155 - val_acc: 0.9690\n",
      "Epoch 6/20\n",
      "48000/48000 [==============================] - 10s 201us/step - loss: 0.0185 - acc: 0.9939 - val_loss: 0.3095 - val_acc: 0.9239\n",
      "Epoch 7/20\n",
      "48000/48000 [==============================] - 10s 200us/step - loss: 0.0169 - acc: 0.9939 - val_loss: 0.0985 - val_acc: 0.9741\n",
      "Epoch 8/20\n",
      "48000/48000 [==============================] - 10s 202us/step - loss: 0.0128 - acc: 0.9955 - val_loss: 0.0476 - val_acc: 0.9884\n",
      "Epoch 9/20\n",
      "48000/48000 [==============================] - 10s 200us/step - loss: 0.0137 - acc: 0.9953 - val_loss: 0.0475 - val_acc: 0.9884\n",
      "Epoch 10/20\n",
      "48000/48000 [==============================] - 10s 200us/step - loss: 0.0129 - acc: 0.9956 - val_loss: 0.0410 - val_acc: 0.9903\n",
      "Epoch 11/20\n",
      "48000/48000 [==============================] - 10s 201us/step - loss: 0.0099 - acc: 0.9967 - val_loss: 0.0490 - val_acc: 0.9883\n",
      "Epoch 12/20\n",
      "48000/48000 [==============================] - 10s 200us/step - loss: 0.0128 - acc: 0.9955 - val_loss: 0.0412 - val_acc: 0.9897\n",
      "Epoch 13/20\n",
      "48000/48000 [==============================] - 10s 201us/step - loss: 0.0095 - acc: 0.9969 - val_loss: 0.0606 - val_acc: 0.9853\n",
      "Epoch 14/20\n",
      "48000/48000 [==============================] - 10s 203us/step - loss: 0.0098 - acc: 0.9965 - val_loss: 0.0546 - val_acc: 0.9878\n",
      "Epoch 15/20\n",
      "48000/48000 [==============================] - 10s 200us/step - loss: 0.0105 - acc: 0.9964 - val_loss: 0.0557 - val_acc: 0.9859\n",
      "Epoch 16/20\n",
      "48000/48000 [==============================] - 10s 200us/step - loss: 0.0086 - acc: 0.9970 - val_loss: 0.0565 - val_acc: 0.9883\n",
      "Epoch 17/20\n",
      "48000/48000 [==============================] - 10s 201us/step - loss: 0.0076 - acc: 0.9975 - val_loss: 0.0590 - val_acc: 0.9868\n",
      "Epoch 18/20\n",
      "48000/48000 [==============================] - 10s 200us/step - loss: 0.0059 - acc: 0.9981 - val_loss: 0.0468 - val_acc: 0.9891\n",
      "Epoch 19/20\n",
      "48000/48000 [==============================] - 10s 201us/step - loss: 0.0049 - acc: 0.9982 - val_loss: 0.0686 - val_acc: 0.9867\n",
      "Epoch 20/20\n",
      "48000/48000 [==============================] - 10s 200us/step - loss: 0.0060 - acc: 0.9980 - val_loss: 0.0450 - val_acc: 0.9924\n"
     ]
    },
    {
     "data": {
      "text/plain": [
       "<keras.callbacks.History at 0x2af1eec9908>"
      ]
     },
     "execution_count": 73,
     "metadata": {},
     "output_type": "execute_result"
    }
   ],
   "source": [
    "#Train the model\n",
    "model.fit(X_train, y_train, epochs = 20, batch_size = 128, validation_split = 0.2, shuffle=True)"
   ]
  },
  {
   "cell_type": "markdown",
   "metadata": {},
   "source": [
    "### Model Evaluation"
   ]
  },
  {
   "cell_type": "code",
   "execution_count": 58,
   "metadata": {},
   "outputs": [
    {
     "name": "stdout",
     "output_type": "stream",
     "text": [
      "10000/10000 [==============================] - 1s 112us/step\n",
      "\n",
      "Loss = 0.0111\n",
      "Test Accuracy = 99.68%\n"
     ]
    }
   ],
   "source": [
    "predictions = model.evaluate(X_test, y_test)\n",
    "print()\n",
    "print(\"Loss = \" + str(round(predictions[0], 4)))\n",
    "print(\"Test Accuracy = \" + str (round(predictions[1] * 100, 2)) + \"%\")"
   ]
  },
  {
   "cell_type": "code",
   "execution_count": 59,
   "metadata": {},
   "outputs": [
    {
     "name": "stdout",
     "output_type": "stream",
     "text": [
      "Predicted Class: 9\n"
     ]
    },
    {
     "data": {
      "image/png": "[encoded data removed]",
      "text/plain": [
       "<Figure size 432x288 with 1 Axes>"
      ]
     },
     "metadata": {
      "needs_background": "light"
     },
     "output_type": "display_data"
    }
   ],
   "source": [
    "#Test Predictions\n",
    "test_index = 501\n",
    "pred = np.argmax(model.predict(X_test[test_index:test_index+1]))\n",
    "plt.imshow(np.squeeze(X_test[test_index]))\n",
    "print(\"Predicted Class: \" + str(pred))"
   ]
  },
  {
   "cell_type": "markdown",
   "metadata": {},
   "source": [
    "### Model Summary"
   ]
  },
  {
   "cell_type": "code",
   "execution_count": 22,
   "metadata": {
    "scrolled": true
   },
   "outputs": [
    {
     "name": "stdout",
     "output_type": "stream",
     "text": [
      "_________________________________________________________________\n",
      "Layer (type)                 Output Shape              Param #   \n",
      "=================================================================\n",
      "input_1 (InputLayer)         (None, 28, 28, 1)         0         \n",
      "_________________________________________________________________\n",
      "zero_padding2d_3 (ZeroPaddin (None, 34, 34, 1)         0         \n",
      "_________________________________________________________________\n",
      "conv1 (Conv2D)               (None, 34, 34, 16)        416       \n",
      "_________________________________________________________________\n",
      "batch_normalization_7 (Batch (None, 34, 34, 16)        64        \n",
      "_________________________________________________________________\n",
      "activation_7 (Activation)    (None, 34, 34, 16)        0         \n",
      "_________________________________________________________________\n",
      "max_pooling2d_7 (MaxPooling2 (None, 17, 17, 16)        0         \n",
      "_________________________________________________________________\n",
      "conv2 (Conv2D)               (None, 17, 17, 32)        12832     \n",
      "_________________________________________________________________\n",
      "batch_normalization_8 (Batch (None, 17, 17, 32)        128       \n",
      "_________________________________________________________________\n",
      "activation_8 (Activation)    (None, 17, 17, 32)        0         \n",
      "_________________________________________________________________\n",
      "max_pooling2d_8 (MaxPooling2 (None, 9, 9, 32)          0         \n",
      "_________________________________________________________________\n",
      "conv3 (Conv2D)               (None, 9, 9, 64)          51264     \n",
      "_________________________________________________________________\n",
      "batch_normalization_9 (Batch (None, 9, 9, 64)          256       \n",
      "_________________________________________________________________\n",
      "activation_9 (Activation)    (None, 9, 9, 64)          0         \n",
      "_________________________________________________________________\n",
      "max_pooling2d_9 (MaxPooling2 (None, 5, 5, 64)          0         \n",
      "_________________________________________________________________\n",
      "flatten_2 (Flatten)          (None, 1600)              0         \n",
      "_________________________________________________________________\n",
      "fc1 (Dense)                  (None, 128)               204928    \n",
      "_________________________________________________________________\n",
      "fc2 (Dense)                  (None, 10)                1290      \n",
      "=================================================================\n",
      "Total params: 271,178\n",
      "Trainable params: 270,954\n",
      "Non-trainable params: 224\n",
      "_________________________________________________________________\n"
     ]
    }
   ],
   "source": [
    "#Summary\n",
    "model.summary()"
   ]
  },
  {
   "cell_type": "code",
   "execution_count": 23,
   "metadata": {
    "scrolled": true
   },
   "outputs": [
    {
     "data": {
      "image/svg+xml": [
       "<svg height=\"1213pt\" viewBox=\"0.00 0.00 268.00 1213.00\" width=\"268pt\" xmlns=\"http://www.w3.org/2000/svg\" xmlns:xlink=\"http://www.w3.org/1999/xlink\">\n",
       "<g class=\"graph\" id=\"graph0\" transform=\"scale(1 1) rotate(0) translate(4 1209)\">\n",
       "<title>G</title>\n",
       "<polygon fill=\"white\" points=\"-4,4 -4,-1209 264,-1209 264,4 -4,4\" stroke=\"none\"/>\n",
       "<!-- 1485117321672 -->\n",
       "<g class=\"node\" id=\"node1\"><title>1485117321672</title>\n",
       "<polygon fill=\"none\" points=\"67,-1168.5 67,-1204.5 193,-1204.5 193,-1168.5 67,-1168.5\" stroke=\"black\"/>\n",
       "<text font-family=\"Times New Roman,serif\" font-size=\"14.00\" text-anchor=\"middle\" x=\"130\" y=\"-1182.8\">input_1: InputLayer</text>\n",
       "</g>\n",
       "<!-- 1485117191560 -->\n",
       "<g class=\"node\" id=\"node2\"><title>1485117191560</title>\n",
       "<polygon fill=\"none\" points=\"21.5,-1095.5 21.5,-1131.5 238.5,-1131.5 238.5,-1095.5 21.5,-1095.5\" stroke=\"black\"/>\n",
       "<text font-family=\"Times New Roman,serif\" font-size=\"14.00\" text-anchor=\"middle\" x=\"130\" y=\"-1109.8\">zero_padding2d_3: ZeroPadding2D</text>\n",
       "</g>\n",
       "<!-- 1485117321672&#45;&gt;1485117191560 -->\n",
       "<g class=\"edge\" id=\"edge1\"><title>1485117321672-&gt;1485117191560</title>\n",
       "<path d=\"M130,-1168.31C130,-1160.29 130,-1150.55 130,-1141.57\" fill=\"none\" stroke=\"black\"/>\n",
       "<polygon fill=\"black\" points=\"133.5,-1141.53 130,-1131.53 126.5,-1141.53 133.5,-1141.53\" stroke=\"black\"/>\n",
       "</g>\n",
       "<!-- 1485117193928 -->\n",
       "<g class=\"node\" id=\"node3\"><title>1485117193928</title>\n",
       "<polygon fill=\"none\" points=\"77.5,-1022.5 77.5,-1058.5 182.5,-1058.5 182.5,-1022.5 77.5,-1022.5\" stroke=\"black\"/>\n",
       "<text font-family=\"Times New Roman,serif\" font-size=\"14.00\" text-anchor=\"middle\" x=\"130\" y=\"-1036.8\">conv1: Conv2D</text>\n",
       "</g>\n",
       "<!-- 1485117191560&#45;&gt;1485117193928 -->\n",
       "<g class=\"edge\" id=\"edge2\"><title>1485117191560-&gt;1485117193928</title>\n",
       "<path d=\"M130,-1095.31C130,-1087.29 130,-1077.55 130,-1068.57\" fill=\"none\" stroke=\"black\"/>\n",
       "<polygon fill=\"black\" points=\"133.5,-1068.53 130,-1058.53 126.5,-1068.53 133.5,-1068.53\" stroke=\"black\"/>\n",
       "</g>\n",
       "<!-- 1485116696520 -->\n",
       "<g class=\"node\" id=\"node4\"><title>1485116696520</title>\n",
       "<polygon fill=\"none\" points=\"0,-949.5 0,-985.5 260,-985.5 260,-949.5 0,-949.5\" stroke=\"black\"/>\n",
       "<text font-family=\"Times New Roman,serif\" font-size=\"14.00\" text-anchor=\"middle\" x=\"130\" y=\"-963.8\">batch_normalization_7: BatchNormalization</text>\n",
       "</g>\n",
       "<!-- 1485117193928&#45;&gt;1485116696520 -->\n",
       "<g class=\"edge\" id=\"edge3\"><title>1485117193928-&gt;1485116696520</title>\n",
       "<path d=\"M130,-1022.31C130,-1014.29 130,-1004.55 130,-995.569\" fill=\"none\" stroke=\"black\"/>\n",
       "<polygon fill=\"black\" points=\"133.5,-995.529 130,-985.529 126.5,-995.529 133.5,-995.529\" stroke=\"black\"/>\n",
       "</g>\n",
       "<!-- 1488288309512 -->\n",
       "<g class=\"node\" id=\"node5\"><title>1488288309512</title>\n",
       "<polygon fill=\"none\" points=\"56,-876.5 56,-912.5 204,-912.5 204,-876.5 56,-876.5\" stroke=\"black\"/>\n",
       "<text font-family=\"Times New Roman,serif\" font-size=\"14.00\" text-anchor=\"middle\" x=\"130\" y=\"-890.8\">activation_7: Activation</text>\n",
       "</g>\n",
       "<!-- 1485116696520&#45;&gt;1488288309512 -->\n",
       "<g class=\"edge\" id=\"edge4\"><title>1485116696520-&gt;1488288309512</title>\n",
       "<path d=\"M130,-949.313C130,-941.289 130,-931.547 130,-922.569\" fill=\"none\" stroke=\"black\"/>\n",
       "<polygon fill=\"black\" points=\"133.5,-922.529 130,-912.529 126.5,-922.529 133.5,-922.529\" stroke=\"black\"/>\n",
       "</g>\n",
       "<!-- 1485900177032 -->\n",
       "<g class=\"node\" id=\"node6\"><title>1485900177032</title>\n",
       "<polygon fill=\"none\" points=\"25.5,-803.5 25.5,-839.5 234.5,-839.5 234.5,-803.5 25.5,-803.5\" stroke=\"black\"/>\n",
       "<text font-family=\"Times New Roman,serif\" font-size=\"14.00\" text-anchor=\"middle\" x=\"130\" y=\"-817.8\">max_pooling2d_7: MaxPooling2D</text>\n",
       "</g>\n",
       "<!-- 1488288309512&#45;&gt;1485900177032 -->\n",
       "<g class=\"edge\" id=\"edge5\"><title>1488288309512-&gt;1485900177032</title>\n",
       "<path d=\"M130,-876.313C130,-868.289 130,-858.547 130,-849.569\" fill=\"none\" stroke=\"black\"/>\n",
       "<polygon fill=\"black\" points=\"133.5,-849.529 130,-839.529 126.5,-849.529 133.5,-849.529\" stroke=\"black\"/>\n",
       "</g>\n",
       "<!-- 1488289155656 -->\n",
       "<g class=\"node\" id=\"node7\"><title>1488289155656</title>\n",
       "<polygon fill=\"none\" points=\"77.5,-730.5 77.5,-766.5 182.5,-766.5 182.5,-730.5 77.5,-730.5\" stroke=\"black\"/>\n",
       "<text font-family=\"Times New Roman,serif\" font-size=\"14.00\" text-anchor=\"middle\" x=\"130\" y=\"-744.8\">conv2: Conv2D</text>\n",
       "</g>\n",
       "<!-- 1485900177032&#45;&gt;1488289155656 -->\n",
       "<g class=\"edge\" id=\"edge6\"><title>1485900177032-&gt;1488289155656</title>\n",
       "<path d=\"M130,-803.313C130,-795.289 130,-785.547 130,-776.569\" fill=\"none\" stroke=\"black\"/>\n",
       "<polygon fill=\"black\" points=\"133.5,-776.529 130,-766.529 126.5,-776.529 133.5,-776.529\" stroke=\"black\"/>\n",
       "</g>\n",
       "<!-- 1488289647560 -->\n",
       "<g class=\"node\" id=\"node8\"><title>1488289647560</title>\n",
       "<polygon fill=\"none\" points=\"0,-657.5 0,-693.5 260,-693.5 260,-657.5 0,-657.5\" stroke=\"black\"/>\n",
       "<text font-family=\"Times New Roman,serif\" font-size=\"14.00\" text-anchor=\"middle\" x=\"130\" y=\"-671.8\">batch_normalization_8: BatchNormalization</text>\n",
       "</g>\n",
       "<!-- 1488289155656&#45;&gt;1488289647560 -->\n",
       "<g class=\"edge\" id=\"edge7\"><title>1488289155656-&gt;1488289647560</title>\n",
       "<path d=\"M130,-730.313C130,-722.289 130,-712.547 130,-703.569\" fill=\"none\" stroke=\"black\"/>\n",
       "<polygon fill=\"black\" points=\"133.5,-703.529 130,-693.529 126.5,-703.529 133.5,-703.529\" stroke=\"black\"/>\n",
       "</g>\n",
       "<!-- 1488289667016 -->\n",
       "<g class=\"node\" id=\"node9\"><title>1488289667016</title>\n",
       "<polygon fill=\"none\" points=\"56,-584.5 56,-620.5 204,-620.5 204,-584.5 56,-584.5\" stroke=\"black\"/>\n",
       "<text font-family=\"Times New Roman,serif\" font-size=\"14.00\" text-anchor=\"middle\" x=\"130\" y=\"-598.8\">activation_8: Activation</text>\n",
       "</g>\n",
       "<!-- 1488289647560&#45;&gt;1488289667016 -->\n",
       "<g class=\"edge\" id=\"edge8\"><title>1488289647560-&gt;1488289667016</title>\n",
       "<path d=\"M130,-657.313C130,-649.289 130,-639.547 130,-630.569\" fill=\"none\" stroke=\"black\"/>\n",
       "<polygon fill=\"black\" points=\"133.5,-630.529 130,-620.529 126.5,-630.529 133.5,-630.529\" stroke=\"black\"/>\n",
       "</g>\n",
       "<!-- 1488289666312 -->\n",
       "<g class=\"node\" id=\"node10\"><title>1488289666312</title>\n",
       "<polygon fill=\"none\" points=\"25.5,-511.5 25.5,-547.5 234.5,-547.5 234.5,-511.5 25.5,-511.5\" stroke=\"black\"/>\n",
       "<text font-family=\"Times New Roman,serif\" font-size=\"14.00\" text-anchor=\"middle\" x=\"130\" y=\"-525.8\">max_pooling2d_8: MaxPooling2D</text>\n",
       "</g>\n",
       "<!-- 1488289667016&#45;&gt;1488289666312 -->\n",
       "<g class=\"edge\" id=\"edge9\"><title>1488289667016-&gt;1488289666312</title>\n",
       "<path d=\"M130,-584.313C130,-576.289 130,-566.547 130,-557.569\" fill=\"none\" stroke=\"black\"/>\n",
       "<polygon fill=\"black\" points=\"133.5,-557.529 130,-547.529 126.5,-557.529 133.5,-557.529\" stroke=\"black\"/>\n",
       "</g>\n",
       "<!-- 1488290124424 -->\n",
       "<g class=\"node\" id=\"node11\"><title>1488290124424</title>\n",
       "<polygon fill=\"none\" points=\"77.5,-438.5 77.5,-474.5 182.5,-474.5 182.5,-438.5 77.5,-438.5\" stroke=\"black\"/>\n",
       "<text font-family=\"Times New Roman,serif\" font-size=\"14.00\" text-anchor=\"middle\" x=\"130\" y=\"-452.8\">conv3: Conv2D</text>\n",
       "</g>\n",
       "<!-- 1488289666312&#45;&gt;1488290124424 -->\n",
       "<g class=\"edge\" id=\"edge10\"><title>1488289666312-&gt;1488290124424</title>\n",
       "<path d=\"M130,-511.313C130,-503.289 130,-493.547 130,-484.569\" fill=\"none\" stroke=\"black\"/>\n",
       "<polygon fill=\"black\" points=\"133.5,-484.529 130,-474.529 126.5,-484.529 133.5,-484.529\" stroke=\"black\"/>\n",
       "</g>\n",
       "<!-- 1488290710920 -->\n",
       "<g class=\"node\" id=\"node12\"><title>1488290710920</title>\n",
       "<polygon fill=\"none\" points=\"0,-365.5 0,-401.5 260,-401.5 260,-365.5 0,-365.5\" stroke=\"black\"/>\n",
       "<text font-family=\"Times New Roman,serif\" font-size=\"14.00\" text-anchor=\"middle\" x=\"130\" y=\"-379.8\">batch_normalization_9: BatchNormalization</text>\n",
       "</g>\n",
       "<!-- 1488290124424&#45;&gt;1488290710920 -->\n",
       "<g class=\"edge\" id=\"edge11\"><title>1488290124424-&gt;1488290710920</title>\n",
       "<path d=\"M130,-438.313C130,-430.289 130,-420.547 130,-411.569\" fill=\"none\" stroke=\"black\"/>\n",
       "<polygon fill=\"black\" points=\"133.5,-411.529 130,-401.529 126.5,-411.529 133.5,-411.529\" stroke=\"black\"/>\n",
       "</g>\n",
       "<!-- 1488290815752 -->\n",
       "<g class=\"node\" id=\"node13\"><title>1488290815752</title>\n",
       "<polygon fill=\"none\" points=\"56,-292.5 56,-328.5 204,-328.5 204,-292.5 56,-292.5\" stroke=\"black\"/>\n",
       "<text font-family=\"Times New Roman,serif\" font-size=\"14.00\" text-anchor=\"middle\" x=\"130\" y=\"-306.8\">activation_9: Activation</text>\n",
       "</g>\n",
       "<!-- 1488290710920&#45;&gt;1488290815752 -->\n",
       "<g class=\"edge\" id=\"edge12\"><title>1488290710920-&gt;1488290815752</title>\n",
       "<path d=\"M130,-365.313C130,-357.289 130,-347.547 130,-338.569\" fill=\"none\" stroke=\"black\"/>\n",
       "<polygon fill=\"black\" points=\"133.5,-338.529 130,-328.529 126.5,-338.529 133.5,-338.529\" stroke=\"black\"/>\n",
       "</g>\n",
       "<!-- 1488290764616 -->\n",
       "<g class=\"node\" id=\"node14\"><title>1488290764616</title>\n",
       "<polygon fill=\"none\" points=\"25.5,-219.5 25.5,-255.5 234.5,-255.5 234.5,-219.5 25.5,-219.5\" stroke=\"black\"/>\n",
       "<text font-family=\"Times New Roman,serif\" font-size=\"14.00\" text-anchor=\"middle\" x=\"130\" y=\"-233.8\">max_pooling2d_9: MaxPooling2D</text>\n",
       "</g>\n",
       "<!-- 1488290815752&#45;&gt;1488290764616 -->\n",
       "<g class=\"edge\" id=\"edge13\"><title>1488290815752-&gt;1488290764616</title>\n",
       "<path d=\"M130,-292.313C130,-284.289 130,-274.547 130,-265.569\" fill=\"none\" stroke=\"black\"/>\n",
       "<polygon fill=\"black\" points=\"133.5,-265.529 130,-255.529 126.5,-265.529 133.5,-265.529\" stroke=\"black\"/>\n",
       "</g>\n",
       "<!-- 1488291347464 -->\n",
       "<g class=\"node\" id=\"node15\"><title>1488291347464</title>\n",
       "<polygon fill=\"none\" points=\"75.5,-146.5 75.5,-182.5 184.5,-182.5 184.5,-146.5 75.5,-146.5\" stroke=\"black\"/>\n",
       "<text font-family=\"Times New Roman,serif\" font-size=\"14.00\" text-anchor=\"middle\" x=\"130\" y=\"-160.8\">flatten_2: Flatten</text>\n",
       "</g>\n",
       "<!-- 1488290764616&#45;&gt;1488291347464 -->\n",
       "<g class=\"edge\" id=\"edge14\"><title>1488290764616-&gt;1488291347464</title>\n",
       "<path d=\"M130,-219.313C130,-211.289 130,-201.547 130,-192.569\" fill=\"none\" stroke=\"black\"/>\n",
       "<polygon fill=\"black\" points=\"133.5,-192.529 130,-182.529 126.5,-192.529 133.5,-192.529\" stroke=\"black\"/>\n",
       "</g>\n",
       "<!-- 1488291892488 -->\n",
       "<g class=\"node\" id=\"node16\"><title>1488291892488</title>\n",
       "<polygon fill=\"none\" points=\"92,-73.5 92,-109.5 168,-109.5 168,-73.5 92,-73.5\" stroke=\"black\"/>\n",
       "<text font-family=\"Times New Roman,serif\" font-size=\"14.00\" text-anchor=\"middle\" x=\"130\" y=\"-87.8\">fc1: Dense</text>\n",
       "</g>\n",
       "<!-- 1488291347464&#45;&gt;1488291892488 -->\n",
       "<g class=\"edge\" id=\"edge15\"><title>1488291347464-&gt;1488291892488</title>\n",
       "<path d=\"M130,-146.313C130,-138.289 130,-128.547 130,-119.569\" fill=\"none\" stroke=\"black\"/>\n",
       "<polygon fill=\"black\" points=\"133.5,-119.529 130,-109.529 126.5,-119.529 133.5,-119.529\" stroke=\"black\"/>\n",
       "</g>\n",
       "<!-- 1488292001480 -->\n",
       "<g class=\"node\" id=\"node17\"><title>1488292001480</title>\n",
       "<polygon fill=\"none\" points=\"92,-0.5 92,-36.5 168,-36.5 168,-0.5 92,-0.5\" stroke=\"black\"/>\n",
       "<text font-family=\"Times New Roman,serif\" font-size=\"14.00\" text-anchor=\"middle\" x=\"130\" y=\"-14.8\">fc2: Dense</text>\n",
       "</g>\n",
       "<!-- 1488291892488&#45;&gt;1488292001480 -->\n",
       "<g class=\"edge\" id=\"edge16\"><title>1488291892488-&gt;1488292001480</title>\n",
       "<path d=\"M130,-73.3129C130,-65.2895 130,-55.5475 130,-46.5691\" fill=\"none\" stroke=\"black\"/>\n",
       "<polygon fill=\"black\" points=\"133.5,-46.5288 130,-36.5288 126.5,-46.5289 133.5,-46.5288\" stroke=\"black\"/>\n",
       "</g>\n",
       "</g>\n",
       "</svg>"
      ],
      "text/plain": [
       "<IPython.core.display.SVG object>"
      ]
     },
     "execution_count": 23,
     "metadata": {},
     "output_type": "execute_result"
    }
   ],
   "source": [
    "#Model Plot\n",
    "from keras.utils import plot_model\n",
    "from keras.utils.vis_utils import model_to_dot\n",
    "from IPython.display import SVG\n",
    "\n",
    "plot_model(model, to_file='HandwrittenRecog.png')\n",
    "SVG(model_to_dot(model).create(prog='dot', format='svg'))"
   ]
  },
  {
   "cell_type": "markdown",
   "metadata": {},
   "source": [
    "### Kaggle Submission"
   ]
  },
  {
   "cell_type": "code",
   "execution_count": 60,
   "metadata": {},
   "outputs": [
    {
     "data": {
      "text/plain": [
       "(28000, 784)"
      ]
     },
     "execution_count": 60,
     "metadata": {},
     "output_type": "execute_result"
    }
   ],
   "source": [
    "#Import Kaggle Test Data\n",
    "data_kg = np.array(pd.read_csv(\"test.csv\"))\n",
    "data_kg.shape"
   ]
  },
  {
   "cell_type": "code",
   "execution_count": 61,
   "metadata": {},
   "outputs": [
    {
     "data": {
      "text/plain": [
       "(28000, 28, 28, 1)"
      ]
     },
     "execution_count": 61,
     "metadata": {},
     "output_type": "execute_result"
    }
   ],
   "source": [
    "data_kg_reshape = data_kg.reshape(data_kg.shape[0], 28, 28, 1)\n",
    "data_kg_reshape.shape"
   ]
  },
  {
   "cell_type": "code",
   "execution_count": 62,
   "metadata": {},
   "outputs": [
    {
     "name": "stdout",
     "output_type": "stream",
     "text": [
      "Predicted Class: 3\n"
     ]
    },
    {
     "data": {
      "image/png": "[encoded data removed]",
      "text/plain": [
       "<Figure size 432x288 with 1 Axes>"
      ]
     },
     "metadata": {
      "needs_background": "light"
     },
     "output_type": "display_data"
    }
   ],
   "source": [
    "#Test Predictions\n",
    "index_kg = 7\n",
    "kg_pred = np.argmax(model.predict(data_kg_reshape[index_kg:index_kg+1]))\n",
    "plt.imshow(np.squeeze(data_kg_reshape[index_kg]))\n",
    "print(\"Predicted Class: \" + str(kg_pred))"
   ]
  },
  {
   "cell_type": "code",
   "execution_count": 63,
   "metadata": {},
   "outputs": [
    {
     "name": "stderr",
     "output_type": "stream",
     "text": [
      "100%|███████████████████████████████████████████████████████████████████████████| 28000/28000 [00:39<00:00, 717.83it/s]\n"
     ]
    }
   ],
   "source": [
    "#Make predictions\n",
    "\n",
    "results = []\n",
    "\n",
    "for index in tqdm(range(data_kg_reshape.shape[0])):\n",
    "    prediction = np.argmax(model.predict(data_kg_reshape[index:index+1]))\n",
    "    results.append((index+1, prediction))"
   ]
  },
  {
   "cell_type": "code",
   "execution_count": 64,
   "metadata": {},
   "outputs": [],
   "source": [
    "#Save predictions on a .csv format\n",
    "results_array = np.array(results)\n",
    "np.savetxt(\"kaggle_mnist.csv\", results_array, fmt='%d', delimiter=\",\")"
   ]
  }
 ],
 "metadata": {
  "kernelspec": {
   "display_name": "Python 3",
   "language": "python",
   "name": "python3"
  },
  "language_info": {
   "codemirror_mode": {
    "name": "ipython",
    "version": 3
   },
   "file_extension": ".py",
   "mimetype": "text/x-python",
   "name": "python",
   "nbconvert_exporter": "python",
   "pygments_lexer": "ipython3",
   "version": "3.7.4"
  },
  "toc": {
   "base_numbering": 1,
   "nav_menu": {},
   "number_sections": true,
   "sideBar": true,
   "skip_h1_title": false,
   "title_cell": "Table of Contents",
   "title_sidebar": "Contents",
   "toc_cell": false,
   "toc_position": {},
   "toc_section_display": true,
   "toc_window_display": false
  }
 },
 "nbformat": 4,
 "nbformat_minor": 2
}
